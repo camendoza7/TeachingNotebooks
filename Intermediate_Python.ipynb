{
 "cells": [
  {
   "cell_type": "markdown",
   "metadata": {},
   "source": [
    "# Welcome to the Intermediate Python Workshop!\n",
    "\n",
    "## Concepts covered:\n",
    "----------------------\n",
    "* Comprehensions\n",
    "* Extended Arguments *(\\*args, \\*\\*kwargs)*\n",
    "* F-strings\n",
    "* Error Handling\n",
    "* Intro to Plotting *(Matplotlib and Seaborn)*\n",
    "* Pip\n",
    "\n",
    "## Concepts for an advanced python workshop\n",
    "-------------------------------------------\n",
    "* Decorators\n",
    "* Generators\n",
    "* Context Managers\n",
    "* Lambda Functions\n",
    "* Object Oriented Programming\n",
    "* Dunder/Magic Methods"
   ]
  },
  {
   "cell_type": "markdown",
   "metadata": {},
   "source": [
    "# Comprehensions\n",
    "-------------------------\n",
    "\n",
    "Comprehensions allow you to create sets, lists and dictionaries is a more compact way."
   ]
  },
  {
   "cell_type": "markdown",
   "metadata": {},
   "source": [
    "## List comprehension example"
   ]
  },
  {
   "cell_type": "code",
   "execution_count": null,
   "metadata": {},
   "outputs": [],
   "source": [
    "myList = []\n",
    "for x in range(10):\n",
    "    myList.append(x ** 2)\n",
    "print(myList)"
   ]
  },
  {
   "cell_type": "code",
   "execution_count": null,
   "metadata": {},
   "outputs": [],
   "source": [
    "myList = [x ** 2 for x in range(10)]\n",
    "print(myList)"
   ]
  },
  {
   "cell_type": "markdown",
   "metadata": {},
   "source": [
    "## Dictionary Comprehension Example"
   ]
  },
  {
   "cell_type": "code",
   "execution_count": null,
   "metadata": {},
   "outputs": [],
   "source": [
    "myDict = {}\n",
    "for x in range(10):\n",
    "    myDict[x] = x ** 2\n",
    "print(myDict)"
   ]
  },
  {
   "cell_type": "code",
   "execution_count": null,
   "metadata": {},
   "outputs": [],
   "source": [
    "myDict = {x: x ** 2 for x in range(10)}\n",
    "print(myDict)"
   ]
  },
  {
   "cell_type": "markdown",
   "metadata": {},
   "source": [
    "## Set Comprehension Example"
   ]
  },
  {
   "cell_type": "code",
   "execution_count": null,
   "metadata": {},
   "outputs": [],
   "source": [
    "myList = []\n",
    "for x in range(10):\n",
    "    myList.append(x ** 2)\n",
    "mySet = set(myList)\n",
    "print(mySet)"
   ]
  },
  {
   "cell_type": "code",
   "execution_count": null,
   "metadata": {},
   "outputs": [],
   "source": [
    "mySet = {x ** 2 for x in range(10)}\n",
    "print(mySet)"
   ]
  },
  {
   "cell_type": "markdown",
   "metadata": {},
   "source": [
    "# Extended Arguments\n",
    "-----------------------\n",
    "Extended arguments allows functions to handle a variable amount of arguments."
   ]
  },
  {
   "cell_type": "markdown",
   "metadata": {},
   "source": [
    "### \\*args is used for positional arguments"
   ]
  },
  {
   "cell_type": "code",
   "execution_count": null,
   "metadata": {},
   "outputs": [],
   "source": [
    "def compute_sum(*args):\n",
    "    mySum = 0\n",
    "    for a in args:\n",
    "        mySum += a\n",
    "    return mySum"
   ]
  },
  {
   "cell_type": "code",
   "execution_count": null,
   "metadata": {},
   "outputs": [],
   "source": [
    "sum1 = compute_sum(1, 2)\n",
    "print(sum1)"
   ]
  },
  {
   "cell_type": "code",
   "execution_count": null,
   "metadata": {},
   "outputs": [],
   "source": [
    "sum2 = compute_sum(1, 3, 6, 4, 2, 5)\n",
    "print(sum2)"
   ]
  },
  {
   "cell_type": "markdown",
   "metadata": {},
   "source": [
    "### You can add other arguments before \\*args"
   ]
  },
  {
   "cell_type": "code",
   "execution_count": null,
   "metadata": {},
   "outputs": [],
   "source": [
    "def myFunc(operation, *args):\n",
    "    if operation == 'add':\n",
    "        result = 0\n",
    "        for a in args:\n",
    "            result += a\n",
    "    elif operation == 'multiply':\n",
    "        result = 1\n",
    "        for a in args:\n",
    "            result *= a\n",
    "    else:\n",
    "        result = 'You should attend more workshops'\n",
    "    return result"
   ]
  },
  {
   "cell_type": "code",
   "execution_count": null,
   "metadata": {},
   "outputs": [],
   "source": [
    "result = myFunc('multiply', 1, 2, 3, 4)\n",
    "print(result)"
   ]
  },
  {
   "cell_type": "code",
   "execution_count": null,
   "metadata": {},
   "outputs": [],
   "source": [
    "result = myFunc('add', 1, 2, 3, 4)\n",
    "print(result)"
   ]
  },
  {
   "cell_type": "code",
   "execution_count": null,
   "metadata": {},
   "outputs": [],
   "source": [
    "result = myFunc('Pizza', 1, 2, 3, 4)\n",
    "print(result)"
   ]
  },
  {
   "cell_type": "markdown",
   "metadata": {},
   "source": [
    "## \\*\\*kwargs is used for keyword arguments"
   ]
  },
  {
   "cell_type": "code",
   "execution_count": null,
   "metadata": {},
   "outputs": [],
   "source": [
    "def printInfo(**kwargs):\n",
    "    for key in kwargs:\n",
    "        print(key, ' -> ', kwargs[key])"
   ]
  },
  {
   "cell_type": "code",
   "execution_count": null,
   "metadata": {},
   "outputs": [],
   "source": [
    "printInfo(name = 'Chris', email = 'camendoza7@miners.utep.edu', can_program = False)"
   ]
  },
  {
   "cell_type": "code",
   "execution_count": null,
   "metadata": {},
   "outputs": [],
   "source": [
    "printInfo(myList = [1, 2, 3], myInt = 1)"
   ]
  },
  {
   "cell_type": "markdown",
   "metadata": {},
   "source": [
    "# F-Strings\n",
    "-----------------\n",
    "F-strings are used to format strings in an easier way"
   ]
  },
  {
   "cell_type": "code",
   "execution_count": null,
   "metadata": {},
   "outputs": [],
   "source": [
    "data = ['Chris', 'PhD', 3]\n",
    "old_way = 'My name is %s and I am working on my %s degree and it will take me %d years to complete it.' % (data[0], data[1], data[2])\n",
    "print(old_way)"
   ]
  },
  {
   "cell_type": "code",
   "execution_count": null,
   "metadata": {},
   "outputs": [],
   "source": [
    "data = ['Chris', 'PhD', 3]\n",
    "f_string = f'My name is {data[0]} and I am working on my {data[1]} degree and it will take me {data[2]} years to complete it.'\n",
    "print(f_string)"
   ]
  },
  {
   "cell_type": "markdown",
   "metadata": {},
   "source": [
    "# Error Handling\n",
    "------------------"
   ]
  },
  {
   "cell_type": "code",
   "execution_count": null,
   "metadata": {},
   "outputs": [],
   "source": [
    "def add(a, b):\n",
    "    return a + b"
   ]
  },
  {
   "cell_type": "code",
   "execution_count": null,
   "metadata": {},
   "outputs": [],
   "source": [
    "result = add(3, 'a')"
   ]
  },
  {
   "cell_type": "code",
   "execution_count": null,
   "metadata": {},
   "outputs": [],
   "source": [
    "def add(a, b):\n",
    "    try:\n",
    "        return a + b\n",
    "    except TypeError:\n",
    "        print('Please pass arguments that can be added')\n",
    "        return -1"
   ]
  },
  {
   "cell_type": "code",
   "execution_count": null,
   "metadata": {},
   "outputs": [],
   "source": [
    "result = add('Chris ', 'Mendoza')\n",
    "print(result)"
   ]
  },
  {
   "cell_type": "code",
   "execution_count": null,
   "metadata": {},
   "outputs": [],
   "source": [
    "result = add('Chris', 9)\n",
    "print(result)"
   ]
  },
  {
   "cell_type": "code",
   "execution_count": null,
   "metadata": {},
   "outputs": [],
   "source": [
    "def print_name(name):\n",
    "    if type(name) != str:\n",
    "        raise TypeError(f'Expected type {str} but received type {type(name)}')\n",
    "    else:\n",
    "        print(f'Hello, {name}!')"
   ]
  },
  {
   "cell_type": "code",
   "execution_count": null,
   "metadata": {},
   "outputs": [],
   "source": [
    "print_name('Chris')"
   ]
  },
  {
   "cell_type": "code",
   "execution_count": null,
   "metadata": {},
   "outputs": [],
   "source": [
    "print_name(8.7)"
   ]
  },
  {
   "cell_type": "markdown",
   "metadata": {},
   "source": [
    "# Plotting\n",
    "---------------\n",
    "## Matplotlib and Seaborn are two of the most popular plotting packages that exist below are a couple of examples"
   ]
  },
  {
   "cell_type": "code",
   "execution_count": null,
   "metadata": {},
   "outputs": [],
   "source": [
    "import matplotlib.pyplot as plt\n",
    "\n",
    "plt.plot(range(10))"
   ]
  },
  {
   "cell_type": "code",
   "execution_count": null,
   "metadata": {},
   "outputs": [],
   "source": [
    "import numpy as np\n",
    "\n",
    "normal_samples = np.random.randn(1000000)\n",
    "print(normal_samples[:10])"
   ]
  },
  {
   "cell_type": "code",
   "execution_count": null,
   "metadata": {},
   "outputs": [],
   "source": [
    "plt.hist(normal_samples)"
   ]
  },
  {
   "cell_type": "code",
   "execution_count": null,
   "metadata": {},
   "outputs": [],
   "source": [
    "import seaborn as sns\n",
    "\n",
    "x = np.random.randn(1000)\n",
    "y = np.random.randn(1000)\n",
    "quad = []\n",
    "for xp, yp in zip(x, y):\n",
    "    if xp > 0 and yp > 0:\n",
    "        quad.append(1)\n",
    "    elif xp < 0 and yp > 0:\n",
    "        quad.append(2)\n",
    "    elif xp < 0 and yp < 0:\n",
    "        quad.append(3)\n",
    "    else:\n",
    "        quad.append(4)\n",
    "\n",
    "sns.scatterplot(x, y, hue = quad, palette = 'rainbow')"
   ]
  },
  {
   "cell_type": "markdown",
   "metadata": {},
   "source": [
    "# Pip\n",
    "### Pip is a popular package manager for Python. Pip allows you to easily install and uninstall packages from the PyPi repository.\n",
    "### This is extremely helpful as it prevents you from. having to download the sources directly from GitHub or another website."
   ]
  },
  {
   "cell_type": "markdown",
   "metadata": {},
   "source": [
    "#### To install a package using pip you can simply use \"pip install {package_name}\"\n",
    "\n",
    "```\n",
    "pip install pandas\n",
    "```"
   ]
  },
  {
   "cell_type": "markdown",
   "metadata": {},
   "source": [
    "#### To uninstall a package you can simply use \"pip uninstall {package_name}\"\n",
    "\n",
    "```\n",
    "pip uninstall pandas\n",
    "```"
   ]
  },
  {
   "cell_type": "markdown",
   "metadata": {},
   "source": [
    "#### To view the currently installed packages you can use the command \"pip list\"\n",
    "\n",
    "```zsh\n",
    "chrismendoza@Chriss-MacBook-Pro ~ % pip list\n",
    "Package                       Version            \n",
    "----------------------------- -------------------\n",
    "absl-py                       0.9.0              \n",
    "alabaster                     0.7.12             \n",
    "anaconda-client               1.7.2              \n",
    "anaconda-navigator            1.9.7              \n",
    "applaunchservices             0.2.1              \n",
    "appnope                       0.1.0              \n",
    "argh                          0.26.2             \n",
    "asgiref                       3.2.3              \n",
    ".\n",
    ".\n",
    ".\n",
    "watchdog                      0.9.0              \n",
    "wcwidth                       0.1.7              \n",
    "webencodings                  0.5.1              \n",
    "Werkzeug                      0.16.1             \n",
    "wheel                         0.33.6             \n",
    "whitenoise                    5.0.1              \n",
    "widgetsnbextension            3.5.1              \n",
    "wrapt                         1.11.2             \n",
    "wurlitzer                     2.0.0              \n",
    "yapf                          0.28.0             \n",
    "zipp                          0.6.0\n",
    "```"
   ]
  }
 ],
 "metadata": {
  "kernelspec": {
   "display_name": "Python 3",
   "language": "python",
   "name": "python3"
  },
  "language_info": {
   "codemirror_mode": {
    "name": "ipython",
    "version": 3
   },
   "file_extension": ".py",
   "mimetype": "text/x-python",
   "name": "python",
   "nbconvert_exporter": "python",
   "pygments_lexer": "ipython3",
   "version": "3.8.3"
  }
 },
 "nbformat": 4,
 "nbformat_minor": 4
}
